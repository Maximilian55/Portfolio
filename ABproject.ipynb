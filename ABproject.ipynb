{
 "cells": [
  {
   "cell_type": "markdown",
   "id": "e757d385",
   "metadata": {},
   "source": [
    "## Our company has designed a new landing page for our website. We want to make sure that the new page will boost sales and provide AT LEAST a 2% increase in our conversion rates. \n",
    "\n",
    "## We have tested the new page for some of our users, and compiled data tracking users, group/landing page style, converted (true/false), and the user's country.\n",
    "\n",
    "## We will analyze if there was a statistically significant difference between the control (old landing page) and the treatment (new landing page)."
   ]
  },
  {
   "cell_type": "code",
   "execution_count": 28,
   "id": "1213be99",
   "metadata": {},
   "outputs": [
    {
     "data": {
      "text/html": [
       "<div>\n",
       "<style scoped>\n",
       "    .dataframe tbody tr th:only-of-type {\n",
       "        vertical-align: middle;\n",
       "    }\n",
       "\n",
       "    .dataframe tbody tr th {\n",
       "        vertical-align: top;\n",
       "    }\n",
       "\n",
       "    .dataframe thead th {\n",
       "        text-align: right;\n",
       "    }\n",
       "</style>\n",
       "<table border=\"1\" class=\"dataframe\">\n",
       "  <thead>\n",
       "    <tr style=\"text-align: right;\">\n",
       "      <th></th>\n",
       "      <th>user_id</th>\n",
       "      <th>timestamp</th>\n",
       "      <th>group</th>\n",
       "      <th>landing_page</th>\n",
       "      <th>converted</th>\n",
       "    </tr>\n",
       "  </thead>\n",
       "  <tbody>\n",
       "    <tr>\n",
       "      <th>0</th>\n",
       "      <td>851104</td>\n",
       "      <td>11:48.6</td>\n",
       "      <td>control</td>\n",
       "      <td>old_page</td>\n",
       "      <td>0</td>\n",
       "    </tr>\n",
       "    <tr>\n",
       "      <th>1</th>\n",
       "      <td>804228</td>\n",
       "      <td>01:45.2</td>\n",
       "      <td>control</td>\n",
       "      <td>old_page</td>\n",
       "      <td>0</td>\n",
       "    </tr>\n",
       "    <tr>\n",
       "      <th>2</th>\n",
       "      <td>661590</td>\n",
       "      <td>55:06.2</td>\n",
       "      <td>treatment</td>\n",
       "      <td>new_page</td>\n",
       "      <td>0</td>\n",
       "    </tr>\n",
       "    <tr>\n",
       "      <th>3</th>\n",
       "      <td>853541</td>\n",
       "      <td>28:03.1</td>\n",
       "      <td>treatment</td>\n",
       "      <td>new_page</td>\n",
       "      <td>0</td>\n",
       "    </tr>\n",
       "    <tr>\n",
       "      <th>4</th>\n",
       "      <td>864975</td>\n",
       "      <td>52:26.2</td>\n",
       "      <td>control</td>\n",
       "      <td>old_page</td>\n",
       "      <td>1</td>\n",
       "    </tr>\n",
       "  </tbody>\n",
       "</table>\n",
       "</div>"
      ],
      "text/plain": [
       "   user_id timestamp      group landing_page  converted\n",
       "0   851104   11:48.6    control     old_page          0\n",
       "1   804228   01:45.2    control     old_page          0\n",
       "2   661590   55:06.2  treatment     new_page          0\n",
       "3   853541   28:03.1  treatment     new_page          0\n",
       "4   864975   52:26.2    control     old_page          1"
      ]
     },
     "execution_count": 28,
     "metadata": {},
     "output_type": "execute_result"
    }
   ],
   "source": [
    "#Import packages\n",
    "import numpy as np\n",
    "import pandas as pd\n",
    "import scipy.stats as stats\n",
    "import statsmodels.stats.api as sms\n",
    "import seaborn as sns\n",
    "from math import ceil\n",
    "\n",
    "#load datasets\n",
    "\n",
    "df = pd.read_csv('ab2.csv')\n",
    "df2 = pd.read_csv('ab2country.csv')\n",
    "\n",
    "#display dataset\n",
    "df.head()\n"
   ]
  },
  {
   "cell_type": "code",
   "execution_count": 2,
   "id": "250c6651",
   "metadata": {},
   "outputs": [],
   "source": [
    "#remove users with multiple session counts\n",
    "session_counts = df['user_id'].value_counts(ascending = False)\n",
    "multi_users = session_counts[session_counts > 1].count()\n",
    "\n",
    "users_to_drop = session_counts[session_counts > 1].index\n",
    "\n",
    "df = df[~ df['user_id'].isin(users_to_drop)]"
   ]
  },
  {
   "cell_type": "code",
   "execution_count": 3,
   "id": "b663cf84",
   "metadata": {},
   "outputs": [
    {
     "data": {
      "text/html": [
       "<div>\n",
       "<style scoped>\n",
       "    .dataframe tbody tr th:only-of-type {\n",
       "        vertical-align: middle;\n",
       "    }\n",
       "\n",
       "    .dataframe tbody tr th {\n",
       "        vertical-align: top;\n",
       "    }\n",
       "\n",
       "    .dataframe thead th {\n",
       "        text-align: right;\n",
       "    }\n",
       "</style>\n",
       "<table border=\"1\" class=\"dataframe\">\n",
       "  <thead>\n",
       "    <tr style=\"text-align: right;\">\n",
       "      <th></th>\n",
       "      <th>conversion_rate</th>\n",
       "      <th>std_deviation</th>\n",
       "      <th>std_error</th>\n",
       "    </tr>\n",
       "    <tr>\n",
       "      <th>group</th>\n",
       "      <th></th>\n",
       "      <th></th>\n",
       "      <th></th>\n",
       "    </tr>\n",
       "  </thead>\n",
       "  <tbody>\n",
       "    <tr>\n",
       "      <th>control</th>\n",
       "      <td>0.1144</td>\n",
       "      <td>0.318296</td>\n",
       "      <td>0.004501</td>\n",
       "    </tr>\n",
       "    <tr>\n",
       "      <th>treatment</th>\n",
       "      <td>0.1238</td>\n",
       "      <td>0.329353</td>\n",
       "      <td>0.004658</td>\n",
       "    </tr>\n",
       "  </tbody>\n",
       "</table>\n",
       "</div>"
      ],
      "text/plain": [
       "           conversion_rate  std_deviation  std_error\n",
       "group                                               \n",
       "control             0.1144       0.318296   0.004501\n",
       "treatment           0.1238       0.329353   0.004658"
      ]
     },
     "execution_count": 3,
     "metadata": {},
     "output_type": "execute_result"
    }
   ],
   "source": [
    "#sample the control and treatment groups\n",
    "control_sample = df[df['group'] == 'control'].sample(n = 5000, random_state = 12)\n",
    "treatment_sample = df[df['group'] == 'treatment'].sample(n = 5000, random_state = 12)\n",
    "ab_test = pd.concat([control_sample, treatment_sample], axis=0)\n",
    "ab_test.reset_index(drop=True, inplace=True)\n",
    "\n",
    "#functions for standard deviation and standard error\n",
    "std_dev = lambda x : np.std(x, ddof = 0)\n",
    "std_error = lambda x : stats.sem(x, ddof = 0)\n",
    "conversion_rate = ab_test.groupby('group')['converted'].agg([np.mean, std_dev, std_error])\n",
    "conversion_rate.columns = ['conversion_rate', 'std_deviation', 'std_error']\n",
    "conversion_rate\n"
   ]
  },
  {
   "cell_type": "code",
   "execution_count": 4,
   "id": "32b499e1",
   "metadata": {},
   "outputs": [
    {
     "name": "stdout",
     "output_type": "stream",
     "text": [
      "Z statistic - -1.45\n",
      "P-value - 0.147\n",
      "CI 95% for control group - [0.106, 0.123]\n",
      "CI 95% for treatment group - [0.115, 0.133]\n"
     ]
    }
   ],
   "source": [
    "from statsmodels.stats.proportion import proportions_ztest, proportion_confint\n",
    "\n",
    "control_results = ab_test[ab_test['group'] == 'control']['converted']\n",
    "treatment_results = ab_test[ab_test['group'] == 'treatment']['converted']\n",
    "            \n",
    "num_control = control_results.count()\n",
    "num_treatment = treatment_results.count()\n",
    "successes = [control_results.sum(), treatment_results.sum()]\n",
    "nobs = [num_control, num_treatment]\n",
    "\n",
    "z_stat, pval = proportions_ztest(successes, nobs = nobs)\n",
    "(lower_con, lower_treat), (upper_con, upper_treat) = proportion_confint(successes, nobs=nobs, alpha=0.05)\n",
    "\n",
    "print(f'Z statistic - {z_stat:.2f}')\n",
    "print(f'P-value - {pval:.3f}')\n",
    "print(f'CI 95% for control group - [{lower_con:.3f}, {upper_con:.3f}]')\n",
    "print(f'CI 95% for treatment group - [{lower_treat:.3f}, {upper_treat:.3f}]')\n"
   ]
  },
  {
   "cell_type": "markdown",
   "id": "0b9ce0fa",
   "metadata": {},
   "source": [
    "## Above we can see that the P-Value, is larger than our Alpha (0.05). We can assume that there is NOT a statstically significant change between the control and treatment group"
   ]
  },
  {
   "cell_type": "code",
   "execution_count": 29,
   "id": "e02653a0",
   "metadata": {},
   "outputs": [
    {
     "data": {
      "text/html": [
       "<div>\n",
       "<style scoped>\n",
       "    .dataframe tbody tr th:only-of-type {\n",
       "        vertical-align: middle;\n",
       "    }\n",
       "\n",
       "    .dataframe tbody tr th {\n",
       "        vertical-align: top;\n",
       "    }\n",
       "\n",
       "    .dataframe thead th {\n",
       "        text-align: right;\n",
       "    }\n",
       "</style>\n",
       "<table border=\"1\" class=\"dataframe\">\n",
       "  <thead>\n",
       "    <tr style=\"text-align: right;\">\n",
       "      <th></th>\n",
       "      <th>user_id</th>\n",
       "      <th>timestamp</th>\n",
       "      <th>group</th>\n",
       "      <th>landing_page</th>\n",
       "      <th>converted</th>\n",
       "      <th>country</th>\n",
       "    </tr>\n",
       "  </thead>\n",
       "  <tbody>\n",
       "    <tr>\n",
       "      <th>0</th>\n",
       "      <td>851104</td>\n",
       "      <td>11:48.6</td>\n",
       "      <td>control</td>\n",
       "      <td>old_page</td>\n",
       "      <td>0</td>\n",
       "      <td>US</td>\n",
       "    </tr>\n",
       "    <tr>\n",
       "      <th>1</th>\n",
       "      <td>804228</td>\n",
       "      <td>01:45.2</td>\n",
       "      <td>control</td>\n",
       "      <td>old_page</td>\n",
       "      <td>0</td>\n",
       "      <td>US</td>\n",
       "    </tr>\n",
       "    <tr>\n",
       "      <th>2</th>\n",
       "      <td>661590</td>\n",
       "      <td>55:06.2</td>\n",
       "      <td>treatment</td>\n",
       "      <td>new_page</td>\n",
       "      <td>0</td>\n",
       "      <td>US</td>\n",
       "    </tr>\n",
       "    <tr>\n",
       "      <th>3</th>\n",
       "      <td>853541</td>\n",
       "      <td>28:03.1</td>\n",
       "      <td>treatment</td>\n",
       "      <td>new_page</td>\n",
       "      <td>0</td>\n",
       "      <td>US</td>\n",
       "    </tr>\n",
       "    <tr>\n",
       "      <th>4</th>\n",
       "      <td>864975</td>\n",
       "      <td>52:26.2</td>\n",
       "      <td>control</td>\n",
       "      <td>old_page</td>\n",
       "      <td>1</td>\n",
       "      <td>US</td>\n",
       "    </tr>\n",
       "    <tr>\n",
       "      <th>...</th>\n",
       "      <td>...</td>\n",
       "      <td>...</td>\n",
       "      <td>...</td>\n",
       "      <td>...</td>\n",
       "      <td>...</td>\n",
       "      <td>...</td>\n",
       "    </tr>\n",
       "    <tr>\n",
       "      <th>294477</th>\n",
       "      <td>945152</td>\n",
       "      <td>51:57.1</td>\n",
       "      <td>control</td>\n",
       "      <td>old_page</td>\n",
       "      <td>0</td>\n",
       "      <td>US</td>\n",
       "    </tr>\n",
       "    <tr>\n",
       "      <th>294478</th>\n",
       "      <td>734608</td>\n",
       "      <td>45:03.4</td>\n",
       "      <td>control</td>\n",
       "      <td>old_page</td>\n",
       "      <td>0</td>\n",
       "      <td>US</td>\n",
       "    </tr>\n",
       "    <tr>\n",
       "      <th>294479</th>\n",
       "      <td>697314</td>\n",
       "      <td>20:29.0</td>\n",
       "      <td>control</td>\n",
       "      <td>old_page</td>\n",
       "      <td>0</td>\n",
       "      <td>US</td>\n",
       "    </tr>\n",
       "    <tr>\n",
       "      <th>294480</th>\n",
       "      <td>715931</td>\n",
       "      <td>40:24.5</td>\n",
       "      <td>treatment</td>\n",
       "      <td>new_page</td>\n",
       "      <td>0</td>\n",
       "      <td>UK</td>\n",
       "    </tr>\n",
       "    <tr>\n",
       "      <th>294481</th>\n",
       "      <td>643532</td>\n",
       "      <td>40:24.5</td>\n",
       "      <td>treatment</td>\n",
       "      <td>new_page</td>\n",
       "      <td>0</td>\n",
       "      <td>US</td>\n",
       "    </tr>\n",
       "  </tbody>\n",
       "</table>\n",
       "<p>286690 rows × 6 columns</p>\n",
       "</div>"
      ],
      "text/plain": [
       "        user_id timestamp      group landing_page  converted country\n",
       "0        851104   11:48.6    control     old_page          0      US\n",
       "1        804228   01:45.2    control     old_page          0      US\n",
       "2        661590   55:06.2  treatment     new_page          0      US\n",
       "3        853541   28:03.1  treatment     new_page          0      US\n",
       "4        864975   52:26.2    control     old_page          1      US\n",
       "...         ...       ...        ...          ...        ...     ...\n",
       "294477   945152   51:57.1    control     old_page          0      US\n",
       "294478   734608   45:03.4    control     old_page          0      US\n",
       "294479   697314   20:29.0    control     old_page          0      US\n",
       "294480   715931   40:24.5  treatment     new_page          0      UK\n",
       "294481   643532   40:24.5  treatment     new_page          0      US\n",
       "\n",
       "[286690 rows x 6 columns]"
      ]
     },
     "execution_count": 29,
     "metadata": {},
     "output_type": "execute_result"
    }
   ],
   "source": [
    "#There is not statistical signifigance shown above\n",
    "#We are going to now split the users by country.\n",
    "\n",
    "df3 = pd.merge(left = df, right = df2, how= 'inner')\n",
    "\n",
    "\n",
    "#remove users\n",
    "\n",
    "session_counts3 = df3['user_id'].value_counts(ascending = False)\n",
    "multi_users3 = session_counts3[session_counts3 > 1].count()\n",
    "\n",
    "users_to_drop3 = session_counts3[session_counts3 > 1].index\n",
    "df3[~ df3['user_id'].isin(users_to_drop3)]\n"
   ]
  },
  {
   "cell_type": "code",
   "execution_count": 6,
   "id": "184c7d04",
   "metadata": {},
   "outputs": [],
   "source": [
    "us = df3[df3['country'] == 'US']\n",
    "uk = df3[df3['country'] == 'UK']\n",
    "\n",
    "us_control_sample = df3[df3['group'] == 'control'].sample(n = 5000, random_state = 12)\n",
    "us_treatment_sample = df3[df3['group'] == 'treatment'].sample(n = 5000, random_state = 12)\n",
    "\n",
    "uk_control_sample = df3[df3['group'] == 'control'].sample(n = 5000, random_state = 12)\n",
    "uk_treatment_sample = df3[df3['group'] == 'treatment'].sample(n = 5000, random_state = 12)"
   ]
  },
  {
   "cell_type": "code",
   "execution_count": 7,
   "id": "ae60fe78",
   "metadata": {},
   "outputs": [],
   "source": [
    "us_ab_test = pd.concat([us_control_sample, us_treatment_sample], axis=0)\n",
    "us_ab_test.reset_index(drop=True, inplace=True)\n",
    "\n",
    "uk_ab_test = pd.concat([uk_control_sample, uk_treatment_sample], axis=0)\n",
    "ab_test.reset_index(drop=True, inplace=True)\n"
   ]
  },
  {
   "cell_type": "code",
   "execution_count": 19,
   "id": "c9f3c847",
   "metadata": {
    "scrolled": false
   },
   "outputs": [],
   "source": [
    "#functions for standard deviation and standard error\n",
    "std_dev = lambda x : np.std(x, ddof = 0)\n",
    "std_error = lambda x : stats.sem(x, ddof = 0)\n",
    "\n",
    "us_conversion_rate = us_ab_test.groupby('group')['converted'].agg([np.mean, std_dev, std_error])\n",
    "us_conversion_rate.columns = ['us_conversion_rate', 'std_deviation', 'std_error']\n"
   ]
  },
  {
   "cell_type": "code",
   "execution_count": 22,
   "id": "cb4dcf4d",
   "metadata": {
    "scrolled": false
   },
   "outputs": [
    {
     "data": {
      "text/plain": [
       "<Axes: xlabel='country', ylabel='converted'>"
      ]
     },
     "execution_count": 22,
     "metadata": {},
     "output_type": "execute_result"
    },
    {
     "data": {
      "image/png": "[encoded data removed]",
      "text/plain": [
       "<Figure size 640x480 with 1 Axes>"
      ]
     },
     "metadata": {},
     "output_type": "display_data"
    }
   ],
   "source": [
    "sns.barplot(x ='country', y = 'converted', hue = 'group', data = df3)\n"
   ]
  },
  {
   "cell_type": "markdown",
   "id": "43d4d496",
   "metadata": {},
   "source": [
    "## Above we can see that there is no large difference between the conversion rate of the control and treatment groups in all locations. It also can be noted that the location with the largest difference (of 0.67%) also had the largest line of error. Below the graph shows the exact conversion rates"
   ]
  },
  {
   "cell_type": "code",
   "execution_count": 26,
   "id": "635449c0",
   "metadata": {
    "scrolled": false
   },
   "outputs": [
    {
     "data": {
      "image/png": "[encoded data removed]",
      "text/plain": [
       "<Figure size 640x480 with 1 Axes>"
      ]
     },
     "metadata": {},
     "output_type": "display_data"
    }
   ],
   "source": [
    "ax = sns.barplot(x ='country', y = 'converted', hue = 'group', data = df3, errwidth = 0)\n",
    "for i in ax.containers:\n",
    "    ax.bar_label(i,)"
   ]
  },
  {
   "cell_type": "markdown",
   "id": "d62dfc4c",
   "metadata": {},
   "source": [
    "## It is clear that using the new landing page, provides no advantage to the company. It is recommended that the company make its decision knowing that the new and old landing page will provide the same conversion rate."
   ]
  }
 ],
 "metadata": {
  "kernelspec": {
   "display_name": "Python 3 (ipykernel)",
   "language": "python",
   "name": "python3"
  },
  "language_info": {
   "codemirror_mode": {
    "name": "ipython",
    "version": 3
   },
   "file_extension": ".py",
   "mimetype": "text/x-python",
   "name": "python",
   "nbconvert_exporter": "python",
   "pygments_lexer": "ipython3",
   "version": "3.10.9"
  }
 },
 "nbformat": 4,
 "nbformat_minor": 5
}
